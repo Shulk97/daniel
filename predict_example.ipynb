{
 "cells": [
  {
   "cell_type": "markdown",
   "metadata": {},
   "source": [
    "# Notebook for quick prediction"
   ]
  },
  {
   "cell_type": "code",
   "execution_count": null,
   "metadata": {},
   "outputs": [],
   "source": [
    "# This file is under a custom Research Usage Only (RUO) license.\n",
    "# Please refer to the license file LICENSE for more details."
   ]
  },
  {
   "cell_type": "code",
   "execution_count": null,
   "metadata": {},
   "outputs": [],
   "source": [
    "from OCR.document_OCR.daniel.inference.daniel_inference_strategy_A import inference_on_unlabelled_dataset, inference_on_unlabelled_image, params"
   ]
  },
  {
   "cell_type": "markdown",
   "metadata": {},
   "source": [
    "## Inference on one image"
   ]
  },
  {
   "cell_type": "code",
   "execution_count": null,
   "metadata": {},
   "outputs": [],
   "source": [
    "image_path = 'images/AD093EC_NUM_000476_00208-left.png'\n",
    "start_token = 0\n",
    "# start_token = 57558 # IAM NER\n",
    "# start_token = 57559 # M-POPP NER\n",
    "pred = inference_on_unlabelled_image(image_path, params, start_token=start_token)[0]\n",
    "print(pred)"
   ]
  },
  {
   "cell_type": "markdown",
   "metadata": {},
   "source": [
    "## Inference on every files of a folder"
   ]
  },
  {
   "cell_type": "code",
   "execution_count": null,
   "metadata": {},
   "outputs": [],
   "source": [
    "dataset_path = 'images'\n",
    "path_pred = 'predictions.json' # predictions will be save in predictions.json\n",
    "inference_on_unlabelled_dataset(dataset_path, params, path_pred, start_token=start_token)"
   ]
  }
 ],
 "metadata": {
  "kernelspec": {
   "display_name": "daniel-envbis",
   "language": "python",
   "name": "python3"
  },
  "language_info": {
   "codemirror_mode": {
    "name": "ipython",
    "version": 3
   },
   "file_extension": ".py",
   "mimetype": "text/x-python",
   "name": "python",
   "nbconvert_exporter": "python",
   "pygments_lexer": "ipython3",
   "version": "3.9.21"
  }
 },
 "nbformat": 4,
 "nbformat_minor": 2
}
